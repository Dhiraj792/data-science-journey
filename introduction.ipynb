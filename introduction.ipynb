{
 "cells": [
  {
   "cell_type": "code",
   "execution_count": 2,
   "id": "0dc8e57f-ef4f-49bb-be00-e08d798ef0bf",
   "metadata": {},
   "outputs": [],
   "source": [
    "import json"
   ]
  },
  {
   "cell_type": "code",
   "execution_count": 3,
   "id": "64ceabd5-204b-42c0-8a6b-a4cf8a39a925",
   "metadata": {},
   "outputs": [],
   "source": [
    "def load_data(filename):\n",
    "    with open(filename,\"r\") as f:\n",
    "       data=json.load(f) \n",
    "    return data"
   ]
  },
  {
   "cell_type": "code",
   "execution_count": 4,
   "id": "c6f57df8-1730-426b-83fa-92797744a653",
   "metadata": {},
   "outputs": [],
   "source": [
    "data=load_data(\"data.json\")\n"
   ]
  },
  {
   "cell_type": "code",
   "execution_count": 5,
   "id": "bd2fd5e5-f6ef-4c30-bc67-ab63ba1d15af",
   "metadata": {},
   "outputs": [
    {
     "data": {
      "text/plain": [
       "{'users': [{'id': 1, 'name': 'Amit', 'friends': [2, 3], 'liked_pages': [101]},\n",
       "  {'id': 2, 'name': 'Priya', 'friends': [1, 4], 'liked_pages': [102]},\n",
       "  {'id': 3, 'name': 'Rahul', 'friends': [1], 'liked_pages': [101, 103]},\n",
       "  {'id': 4, 'name': 'Sara', 'friends': [2], 'liked_pages': [104]}],\n",
       " 'pages': [{'id': 101, 'name': 'Python Developers'},\n",
       "  {'id': 102, 'name': 'Data Science Enthusiasts'},\n",
       "  {'id': 103, 'name': 'AI & ML Community'},\n",
       "  {'id': 104, 'name': 'Web Dev Hub'}]}"
      ]
     },
     "execution_count": 5,
     "metadata": {},
     "output_type": "execute_result"
    }
   ],
   "source": [
    "data"
   ]
  },
  {
   "cell_type": "code",
   "execution_count": 6,
   "id": "7a924d4d-e3c2-42d6-a964-1cb99fb0f07f",
   "metadata": {},
   "outputs": [
    {
     "data": {
      "text/plain": [
       "dict"
      ]
     },
     "execution_count": 6,
     "metadata": {},
     "output_type": "execute_result"
    }
   ],
   "source": [
    "type(data)"
   ]
  },
  {
   "cell_type": "code",
   "execution_count": 21,
   "id": "124354f4-0fdf-4967-b59a-36b85ebdbd5c",
   "metadata": {},
   "outputs": [],
   "source": [
    "#write a function to display users and their connection\n",
    "def display_users(data):\n",
    "    print(\"users and their connection\\n\")\n",
    "    for user in data['users']:\n",
    "        print(f\"ID:{user['id']}-{user['name']} is friends with:{user['friends']} and like pages are{user['liked_pages']}\")\n",
    "    print(\"\\npages information\")\n",
    "    for page in data['pages']:\n",
    "        print(f\"{page['id']}:{page['name']}\")\n",
    "         \n",
    "        "
   ]
  },
  {
   "cell_type": "code",
   "execution_count": 22,
   "id": "84c5a3f1-d3ac-4950-a03b-b61866444e21",
   "metadata": {},
   "outputs": [
    {
     "name": "stdout",
     "output_type": "stream",
     "text": [
      "users and their connection\n",
      "\n",
      "ID:1-Amit is friends with:[2, 3] and like pages are[101]\n",
      "ID:2-Priya is friends with:[1, 4] and like pages are[102]\n",
      "ID:3-Rahul is friends with:[1] and like pages are[101, 103]\n",
      "ID:4-Sara is friends with:[2] and like pages are[104]\n",
      "\n",
      "pages information\n",
      "101:Python Developers\n",
      "102:Data Science Enthusiasts\n",
      "103:AI & ML Community\n",
      "104:Web Dev Hub\n"
     ]
    }
   ],
   "source": [
    "display_users(data)"
   ]
  },
  {
   "cell_type": "code",
   "execution_count": 28,
   "id": "0010eeee-1d7d-4dd2-beff-73091d812969",
   "metadata": {},
   "outputs": [
    {
     "name": "stdout",
     "output_type": "stream",
     "text": [
      "data has been cleaned successfully \n"
     ]
    }
   ],
   "source": [
    "import json\n",
    "def clean_data(data):\n",
    "    #remove users with missing name\n",
    "    data[\"users\"]=[user for user in data[\"users\"]if user[\"name\"].strip()]\n",
    "    #remove duplicates friends\n",
    "    for user in data[\"users\"]:\n",
    "        user[\"friend\"]=list(set(user[\"friends\"]))\n",
    "    #remove inactive users\n",
    "    \n",
    "    data['users']=[user for user in data['users'] if user['friend'] or user['liked_pages']]\n",
    "\n",
    "    #remove duplicate pages\n",
    "    unique_pages={}\n",
    "    for page in data[\"pages\"]:\n",
    "        unique_pages[page[\"id\"]]=page\n",
    "    data[\"pages\"]=list(unique_pages.values())\n",
    "    return data\n",
    "\n",
    "#Load the data\n",
    "data=json.load(open('data2.json'))\n",
    "data=clean_data(data)\n",
    "json.dump(data,open(\"cleaned_data2.json\",\"w\"),indent=4)\n",
    "print(\"data has been cleaned successfully \")"
   ]
  },
  {
   "cell_type": "code",
   "execution_count": null,
   "id": "d9e950f9-ccb0-4086-b323-869a4093fc67",
   "metadata": {},
   "outputs": [],
   "source": []
  }
 ],
 "metadata": {
  "kernelspec": {
   "display_name": "Python 3 (ipykernel)",
   "language": "python",
   "name": "python3"
  },
  "language_info": {
   "codemirror_mode": {
    "name": "ipython",
    "version": 3
   },
   "file_extension": ".py",
   "mimetype": "text/x-python",
   "name": "python",
   "nbconvert_exporter": "python",
   "pygments_lexer": "ipython3",
   "version": "3.13.5"
  }
 },
 "nbformat": 4,
 "nbformat_minor": 5
}
