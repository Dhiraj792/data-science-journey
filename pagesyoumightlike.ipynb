{
 "cells": [
  {
   "cell_type": "code",
   "execution_count": 1,
   "id": "9ec07e8a-509e-4e27-b499-06da33f3b5e2",
   "metadata": {},
   "outputs": [],
   "source": [
    "import json"
   ]
  },
  {
   "cell_type": "code",
   "execution_count": 9,
   "id": "dad1d27a-a51d-40f7-93e3-f2dd15951951",
   "metadata": {},
   "outputs": [
    {
     "name": "stdout",
     "output_type": "stream",
     "text": [
      "[103, 105, 107, 104, 106, 108, 109, 110, 111, 112, 113, 114, 115, 116, 117, 118, 119, 120, 121, 122, 123, 124, 125, 126, 127]\n"
     ]
    }
   ],
   "source": [
    "import json\n",
    "\n",
    "def read_data(filename):\n",
    "    with open(filename,'r') as f:\n",
    "        return json.load(f)\n",
    "\n",
    "# function to find pages a user might like based on common interests\n",
    "def find_pages_you_might_like(user_id, data):\n",
    "    # dictionary to store user interaction with pages\n",
    "    user_pages = {}\n",
    "    for user in data['users']:\n",
    "        user_pages[user['id']] = set(user['liked_pages'])\n",
    "\n",
    "    # if user is not found return an empty list\n",
    "    if user_id not in user_pages:\n",
    "        return []\n",
    "\n",
    "    user_liked_pages = user_pages[user_id]\n",
    "    page_suggestion = {}\n",
    "\n",
    "    # compare with other users\n",
    "    for other_user, pages in user_pages.items():\n",
    "        if other_user != user_id:\n",
    "            # shared pages between given user and other user\n",
    "            shared_pages = user_liked_pages.intersection(pages)\n",
    "\n",
    "            for page in pages:\n",
    "                if page not in user_liked_pages:\n",
    "                    # weight = number of shared pages\n",
    "                    page_suggestion[page] = page_suggestion.get(page, 0) + len(shared_pages)\n",
    "\n",
    "    # sort suggestions by score (descending)\n",
    "    sorted_pages = sorted(page_suggestion.items(), key=lambda x: x[1], reverse=True)\n",
    "\n",
    "    # return only page ids\n",
    "    return [page_id for page_id, _ in sorted_pages]\n",
    "\n",
    "# Example usage\n",
    "data = read_data(\"massive.json\")\n",
    "user_id = 1\n",
    "page_recommendation = find_pages_you_might_like(user_id, data)\n",
    "print(page_recommendation)\n"
   ]
  },
  {
   "cell_type": "code",
   "execution_count": null,
   "id": "90a1c45b-4206-4050-bc63-7c036d388edd",
   "metadata": {},
   "outputs": [],
   "source": []
  }
 ],
 "metadata": {
  "kernelspec": {
   "display_name": "Python 3 (ipykernel)",
   "language": "python",
   "name": "python3"
  },
  "language_info": {
   "codemirror_mode": {
    "name": "ipython",
    "version": 3
   },
   "file_extension": ".py",
   "mimetype": "text/x-python",
   "name": "python",
   "nbconvert_exporter": "python",
   "pygments_lexer": "ipython3",
   "version": "3.13.5"
  }
 },
 "nbformat": 4,
 "nbformat_minor": 5
}
