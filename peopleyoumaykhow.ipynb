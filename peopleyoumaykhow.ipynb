{
 "cells": [
  {
   "cell_type": "code",
   "execution_count": 26,
   "id": "6fe5217f-56ca-4b42-b8dc-3f9ef300ccc9",
   "metadata": {},
   "outputs": [
    {
     "name": "stdout",
     "output_type": "stream",
     "text": [
      "[2, 7, 5, 10, 12, 14, 11, 15]\n"
     ]
    }
   ],
   "source": [
    "import json\n",
    "\n",
    "def load_data(filename):\n",
    "    with open(filename, \"r\") as f:\n",
    "        return json.load(f)\n",
    "\n",
    "def find_people_you_may_know(user_id, data):\n",
    "    # Step 1: Build a dictionary of user -> friends\n",
    "    user_friends = {}\n",
    "    for user in data[\"users\"]:\n",
    "        user_friends[user['id']] = set(user['friends'])\n",
    "\n",
    "    # Step 2: If user not found\n",
    "    if user_id not in user_friends:\n",
    "        return []\n",
    "\n",
    "    direct_friends = user_friends[user_id]\n",
    "    suggestions = {}\n",
    "\n",
    "    # Step 3: Check friends of friends\n",
    "    for friend in direct_friends:\n",
    "        for mutual in user_friends.get(friend, []):\n",
    "            if mutual != user_id and mutual not in direct_friends:\n",
    "                # Count mutual connections\n",
    "                suggestions[mutual] = suggestions.get(mutual, 0) + 1\n",
    "\n",
    "    # Step 4: Sort by number of mutual friends (descending)\n",
    "    sorted_sugge = sorted(suggestions.items(), key=lambda x: x[1], reverse=True)\n",
    "\n",
    "    # Step 5: Return only user IDs\n",
    "    return [suggested_id for suggested_id, mutual_count in sorted_sugge]\n",
    "\n",
    "# Example usage\n",
    "data = load_data(\"massive.json\")\n",
    "user_id = 4\n",
    "recc = find_people_you_may_know(user_id, data)\n",
    "print(recc)\n"
   ]
  },
  {
   "cell_type": "code",
   "execution_count": 4,
   "id": "f7e3401b-d0c9-4458-8df4-f46443815533",
   "metadata": {},
   "outputs": [],
   "source": [
    "import json"
   ]
  },
  {
   "cell_type": "code",
   "execution_count": 5,
   "id": "d3ec31d3-5e55-4b4a-b586-076b30c75faa",
   "metadata": {},
   "outputs": [],
   "source": [
    "def print_file(filename):\n",
    "    with open(filename,'r')as f:\n",
    "        data=json.load(f)\n",
    "        return data\n"
   ]
  },
  {
   "cell_type": "code",
   "execution_count": 6,
   "id": "621482b4-d348-4edc-a3ca-1be7c0435718",
   "metadata": {},
   "outputs": [
    {
     "data": {
      "text/plain": [
       "{'users': [{'id': 1, 'name': 'Amit', 'friends': [2, 3], 'liked_pages': [101]},\n",
       "  {'id': 2, 'name': 'Priya', 'friends': [1, 4], 'liked_pages': [102]},\n",
       "  {'id': 3, 'name': 'Rahul', 'friends': [1], 'liked_pages': [101, 103]},\n",
       "  {'id': 4, 'name': 'Sara', 'friends': [2], 'liked_pages': [104]}],\n",
       " 'pages': [{'id': 101, 'name': 'Python Developers'},\n",
       "  {'id': 102, 'name': 'Data Science Enthusiasts'},\n",
       "  {'id': 103, 'name': 'AI & ML Community'},\n",
       "  {'id': 104, 'name': 'Web Dev Hub'}]}"
      ]
     },
     "execution_count": 6,
     "metadata": {},
     "output_type": "execute_result"
    }
   ],
   "source": [
    "data=print_file(\"data.json\")\n",
    "data"
   ]
  },
  {
   "cell_type": "code",
   "execution_count": 7,
   "id": "79f10468-0af3-49a0-8b44-f9d23ecefd08",
   "metadata": {},
   "outputs": [],
   "source": [
    "user_friends={}\n",
    "for user in data['users']:\n",
    "    user_friends[user['id']]=set(user['friends'])"
   ]
  },
  {
   "cell_type": "code",
   "execution_count": 27,
   "id": "7626bcb3-414e-4939-847e-d4e643818742",
   "metadata": {},
   "outputs": [
    {
     "name": "stdout",
     "output_type": "stream",
     "text": [
      "{1: {2, 3}, 2: {1, 4}, 3: {1}, 4: {2}}\n"
     ]
    }
   ],
   "source": [
    "print(user_friends)\n"
   ]
  },
  {
   "cell_type": "code",
   "execution_count": 30,
   "id": "ca3cea18-ce3f-47ef-a9d9-390cd3473b66",
   "metadata": {},
   "outputs": [],
   "source": [
    "direct_friends = user_friends[1]"
   ]
  },
  {
   "cell_type": "code",
   "execution_count": 31,
   "id": "4ab762c1-a64b-4372-8c58-edaf4bb63c7f",
   "metadata": {},
   "outputs": [
    {
     "name": "stdout",
     "output_type": "stream",
     "text": [
      "{2, 3}\n"
     ]
    }
   ],
   "source": [
    "print(direct_friends)"
   ]
  },
  {
   "cell_type": "code",
   "execution_count": null,
   "id": "a30b5100-c6b3-45bc-b2ca-4b4ab8b33071",
   "metadata": {},
   "outputs": [],
   "source": []
  }
 ],
 "metadata": {
  "kernelspec": {
   "display_name": "Python 3 (ipykernel)",
   "language": "python",
   "name": "python3"
  },
  "language_info": {
   "codemirror_mode": {
    "name": "ipython",
    "version": 3
   },
   "file_extension": ".py",
   "mimetype": "text/x-python",
   "name": "python",
   "nbconvert_exporter": "python",
   "pygments_lexer": "ipython3",
   "version": "3.13.5"
  }
 },
 "nbformat": 4,
 "nbformat_minor": 5
}
